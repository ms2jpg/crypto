{
 "cells": [
  {
   "cell_type": "code",
   "execution_count": 48,
   "metadata": {},
   "outputs": [],
   "source": [
    "import numpy as np\n",
    "from PIL import Image,ImageDraw\n",
    "import matplotlib.pyplot as plt\n",
    "import matplotlib.gridspec as gridspec\n",
    "from ipywidgets import  interactive\n",
    "from glob import glob\n",
    "import numpy.typing as npt"
   ]
  },
  {
   "cell_type": "code",
   "execution_count": 49,
   "metadata": {},
   "outputs": [],
   "source": [
    "def split_shares(img:npt.NDArray):\n",
    "    \"\"\"\n",
    "    img msk s1 s2\n",
    "    0   0   10 10 \n",
    "    0   1   01 01\n",
    "    1   0   10 01\n",
    "    1   1   01 10\n",
    "    \"\"\"\n",
    "    H, W = img.shape\n",
    "    s1, s2 = np.zeros((2, H, W, 2))\n",
    "    mask = np.random.rand(H, W) > 0.5\n",
    "    \n",
    "    s1[(img == 1) & (mask == 0)] = [1, 0]\n",
    "    s2[(img == 1) & (mask == 0)] = [1, 0]\n",
    "    \n",
    "    s1[(img == 1) & (mask == 1)] = [0, 1]\n",
    "    s2[(img == 1) & (mask == 1)] = [0, 1]\n",
    "    \n",
    "    s1[(img == 0) & (mask == 0)] = [1, 0]\n",
    "    s2[(img == 0) & (mask == 0)] = [0, 1]\n",
    "    \n",
    "    s1[(img == 0) & (mask == 1)] = [0, 1]\n",
    "    s2[(img == 0) & (mask == 1)] = [1, 0]\n",
    "    \n",
    "    s1 = s1.reshape(H, 2*W).astype(bool)\n",
    "    s2 = s2.reshape(H, 2*W).astype(bool)\n",
    "    return s1, s2\n",
    "def join_shares(x, y):\n",
    "\n",
    "    return x == y\n"
   ]
  },
  {
   "cell_type": "code",
   "execution_count": 50,
   "metadata": {},
   "outputs": [],
   "source": [
    "def hideText(img=None,output_path1='out1.png',output_path2='out2.png'):\n",
    "    if img is None:\n",
    "        blank_img = np.zeros((100,100),dtype=  np.uint8)\n",
    "        img = Image.fromarray(blank_img)\n",
    "        draw = ImageDraw.Draw(img)\n",
    "        draw.text((0,0),\"Sample text\",255)\n",
    "        img = np.array(img)\n",
    "        img[img==255] = 1\n",
    "    else:\n",
    "        img = Image.open(img).convert('L')\n",
    "        img = np.array(img)\n",
    "        img[img==255] = 1\n",
    "\n",
    "    output_img1,output_img2 = split_shares(img)\n",
    "    _,(ax1,ax2) = plt.subplots(1,2,figsize=(10,10))\n",
    "    ax1.imshow(output_img1,cmap='gray')\n",
    "    ax2.imshow(output_img2,cmap='gray')\n",
    "    plt.imsave(output_path1,output_img1,cmap='gray')\n",
    "    plt.imsave(output_path2,output_img2,cmap='gray')\n",
    "    plt.show()\n",
    "    "
   ]
  },
  {
   "cell_type": "code",
   "execution_count": 51,
   "metadata": {},
   "outputs": [],
   "source": [
    "def generate_image_with_text(text:str=\"Sample Text\",path:str=\"sample.png\",imgSize:int=100):\n",
    "    blank_img = np.zeros((imgSize,imgSize),dtype= np.uint8)\n",
    "    img = Image.fromarray(blank_img)\n",
    "    draw = ImageDraw.Draw(img)\n",
    "    draw.text((0,0),text,255)\n",
    "    img = np.array(img)\n",
    "    img[img==255] = 1\n",
    "    plt.imsave(path,img,cmap='binary')\n",
    "    \n",
    "    plt.imshow(img,cmap='gray')"
   ]
  },
  {
   "cell_type": "code",
   "execution_count": 52,
   "metadata": {},
   "outputs": [],
   "source": [
    "def decrypt_and_show(img_path1:str='out1.png',img_path2:str='out2.png'):\n",
    "    s1 = Image.open(img_path1).convert('L')\n",
    "    s1= np.array(s1)\n",
    "    s2 = Image.open(img_path2).convert('L')\n",
    "    s2 = np.array(s2)\n",
    "    s1[s1==255]=1\n",
    "    s2[s2==255]=1\n",
    "\n",
    "    z = join_shares(s1, s2)\n",
    "    gs = gridspec.GridSpec(2, 2)\n",
    "    plt.figure(figsize=(12,12))\n",
    "    ax = plt.subplot(gs[0, 0]) # row 0, col 0\n",
    "    plt.imshow(s1,cmap='gray')\n",
    "    ax = plt.subplot(gs[0, 1]) # row 0, col 1\n",
    "    plt.imshow(s2,cmap='gray')\n",
    "    ax = plt.subplot(gs[1, :]) # row 1, span all columns\n",
    "    plt.imshow(z,cmap='gray')"
   ]
  },
  {
   "cell_type": "markdown",
   "metadata": {},
   "source": [
    "# Sekcja INFO\n",
    "\n",
    "## Autor\n",
    "Michał Kwarta 145192 L2\n",
    "\n",
    "\n",
    "## Opis algorytmu\n",
    "Dzielenie obrazka odbywa się w następujący sposób:\n",
    "Najpierw generowane są dwie macierze wypełnione zerami o rozmiarze wysokość_obrazka X szerokość_obrazka X 2.\n",
    "Później generuję maskę typu boolean 1 albo 0 z prawdopodobieństwem 50%.\n",
    "Póżniej macierzy(nazwijmy je s1 i s2) z zerami wstawiam liczby w następujący sposób:\n",
    "\n",
    "| img | msk |  s1   |   s2  |\n",
    "|---- | ----| ----- | ----- |\n",
    "|  0  |  0  | [1,0] | [1,0] |  \n",
    "|  0  |  1  | [0,1] | [0,1] |\n",
    "|  1  |  0  | [1,0] | [0,1] |\n",
    "|  1  |  1  | [0,1] | [1,0] |\n",
    "\n",
    "A następnie używam metody reshape z pakietu numpy żeby przekształcić je do rozmiaru wysokość obrazka X 2* szerokość obrazka\n",
    "\n",
    "Podczas łączenia obrazków posługuję się następującą funkcją, a więc, jeżeli s1==s2 to biały, w przeciwnym przypadku czarny.\n",
    "| s1 | s2 | z |\n",
    "|----|--- |---|\n",
    "|0   |0   |1  |\n",
    "|0   |1   |0  |\n",
    "|1   |0   |0  |\n",
    "|1   |1   |1  |\n",
    "\n",
    "## Specyfikacja założeń\n",
    "- Dane wejściowe i wyjściowe - Dowolny czarno biały obrazek(koniecznie skrajna biel i skrajna czerń), chociaż program oferuje możliwość generowania obrazka o rozmiarze (100,100) do (1000,1000) z zadanym tekstem. Dane wyjściowe to obrazki w bieżącym katalogu.\n",
    "- rozmiar danych - Nieistotny, w przypadku użycia funkcji do generowania obrazka, zadany tekst nie powinien być na tyle duży aby się nie zmieścił się na obrazie( chociaż rozmiar obrazka ustala użytkownik)\n",
    "- Format danych - czarno biały obrazek png\n",
    "- Ograniczenia - Raczej brak\n",
    "- Środowisko - python3 z paczkami do obsługi notebooków jupytera wraz z numpy,matplotlib,PIL "
   ]
  },
  {
   "cell_type": "markdown",
   "metadata": {},
   "source": [
    "## Pseudo GUI/Strefa klikalna"
   ]
  },
  {
   "cell_type": "markdown",
   "metadata": {},
   "source": [
    "Generator obrazka z zadanym tekstem do testów"
   ]
  },
  {
   "cell_type": "code",
   "execution_count": 53,
   "metadata": {},
   "outputs": [
    {
     "data": {
      "application/vnd.jupyter.widget-view+json": {
       "model_id": "70d51e48dba640aa8d511bd7f192da71",
       "version_major": 2,
       "version_minor": 0
      },
      "text/plain": [
       "interactive(children=(Text(value='Sample Text', description='text'), Text(value='sample.png', description='pat…"
      ]
     },
     "metadata": {},
     "output_type": "display_data"
    }
   ],
   "source": [
    "interactive(generate_image_with_text,text=\"Sample Text\",path=\"sample.png\",imgSize=(100,1000))"
   ]
  },
  {
   "cell_type": "markdown",
   "metadata": {},
   "source": [
    "Podział obrazka "
   ]
  },
  {
   "cell_type": "code",
   "execution_count": 54,
   "metadata": {},
   "outputs": [
    {
     "data": {
      "application/vnd.jupyter.widget-view+json": {
       "model_id": "b7ef412edb0d42a186ba0b3544956bbf",
       "version_major": 2,
       "version_minor": 0
      },
      "text/plain": [
       "interactive(children=(Dropdown(description='img', options=('sample.png', 'out1.png', 'out2.png', 'kwadrat.png'…"
      ]
     },
     "metadata": {},
     "output_type": "display_data"
    }
   ],
   "source": [
    "interactive(hideText,img=glob(\"*.png\"))"
   ]
  },
  {
   "cell_type": "markdown",
   "metadata": {},
   "source": [
    "Odkrywanie wiadomości\n"
   ]
  },
  {
   "cell_type": "code",
   "execution_count": 55,
   "metadata": {},
   "outputs": [
    {
     "data": {
      "application/vnd.jupyter.widget-view+json": {
       "model_id": "0ff2e0536750459abbc672a8e1ddb8b5",
       "version_major": 2,
       "version_minor": 0
      },
      "text/plain": [
       "interactive(children=(Dropdown(description='img_path1', index=1, options=('sample.png', 'out1.png', 'out2.png'…"
      ]
     },
     "metadata": {},
     "output_type": "display_data"
    }
   ],
   "source": [
    "interactive(decrypt_and_show,img_path1=glob(\"*.png\"),img_path2=glob(\"*.png\"))"
   ]
  }
 ],
 "metadata": {
  "interpreter": {
   "hash": "23e4856e77676432253406e730e1851336850146106a3b5eb7b676c76597cb2e"
  },
  "kernelspec": {
   "display_name": "Python 3.10.4 ('venv': venv)",
   "language": "python",
   "name": "python3"
  },
  "language_info": {
   "codemirror_mode": {
    "name": "ipython",
    "version": 3
   },
   "file_extension": ".py",
   "mimetype": "text/x-python",
   "name": "python",
   "nbconvert_exporter": "python",
   "pygments_lexer": "ipython3",
   "version": "3.10.4"
  },
  "orig_nbformat": 4
 },
 "nbformat": 4,
 "nbformat_minor": 2
}
